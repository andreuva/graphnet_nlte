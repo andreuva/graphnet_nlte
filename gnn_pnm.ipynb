{
 "cells": [
  {
   "cell_type": "code",
   "execution_count": 1,
   "id": "a3fa4e6c",
   "metadata": {},
   "outputs": [],
   "source": [
    "import numpy as np\n",
    "import torch\n",
    "import torch.nn as nn\n",
    "from torch_geometric.loader import DataLoader\n",
    "from tqdm import tqdm\n",
    "from graphnet import *\n",
    "from configobj import ConfigObj\n",
    "from Dataset import *\n",
    "import matplotlib.pyplot as plt\n"
   ]
  },
  {
   "cell_type": "code",
   "execution_count": 2,
   "id": "1b94eff7",
   "metadata": {},
   "outputs": [
    {
     "name": "stdout",
     "output_type": "stream",
     "text": [
      "CUDA available: True\n",
      "Using device: cuda:0\n"
     ]
    }
   ],
   "source": [
    "# Check if CUDA is available\n",
    "cuda_available = torch.cuda.is_available()\n",
    "\n",
    "# Set device to GPU 0 if available, otherwise CPU\n",
    "device = torch.device(\"cuda:0\" if cuda_available else \"cpu\")\n",
    "gpu = 0\n",
    "\n",
    "# Print device info\n",
    "print(f\"CUDA available: {cuda_available}\")\n",
    "print(f\"Using device: {device}\")"
   ]
  },
  {
   "cell_type": "code",
   "execution_count": 3,
   "id": "113c9cff",
   "metadata": {},
   "outputs": [],
   "source": [
    "#  LOAD THE DATACUBES OF THE GRID FROM C PORTA CODE\n",
    "\n",
    "datadir = '../data_porta'\n",
    "# ---- grid dimensions taken from the C code ----\n",
    "nx = ny = 504\n",
    "nz = 476 - 52 + 1          # 425\n",
    "nlev = 6                   # caii[0] … caii[5]\n",
    "\n",
    "# ---- memory–mapped array: reads only the chunks you touch ----\n",
    "pops = np.memmap(\n",
    "    f'{datadir}/AR_385_CaII_5L_pops.dat',\n",
    "    dtype='<f4',           # little-endian 32-bit float\n",
    "    mode='r',\n",
    "    shape=(nz, ny, nx, nlev)   # (k, j, i, level)==(z, y, x, L)\n",
    ")\n",
    "\n",
    "# ---- memory–mapped array: reads only the chunks you touch ----\n",
    "b_xyz = np.memmap(\n",
    "    f'{datadir}/AR_385_B.dat',\n",
    "    dtype='<f4',           # little-endian 32-bit float\n",
    "    mode='r',\n",
    "    shape=(nz, ny, nx, 3)   # (k, j, i, B_i)==(z, y, x, B)\n",
    ")\n",
    "\n",
    "# ---- memory–mapped array: reads only the chunks you touch ----\n",
    "temp = np.memmap(\n",
    "    f'{datadir}/AR_385_temp.dat',\n",
    "    dtype='<f4',           # little-endian 32-bit float\n",
    "    mode='r',\n",
    "    shape=(nz, ny, nx, 1)   # (k, j, i, 1)==(z, y, x, 1)\n",
    ")\n",
    "\n",
    "# ---- memory–mapped array: reads only the chunks you touch ----\n",
    "vel = np.memmap(\n",
    "    f'{datadir}/AR_385_veloc.dat',\n",
    "    dtype='<f4',           # little-endian 32-bit float\n",
    "    mode='r',\n",
    "    shape=(nz, ny, nx, 3)   # (k, j, i, 3)==(z, y, x, 3)\n",
    ")\n",
    "\n",
    "# ---- memory–mapped array: reads only the chunks you touch ----\n",
    "n_e = np.memmap(\n",
    "    f'{datadir}/AR_385_ne.dat',\n",
    "    dtype='<f4',           # little-endian 32-bit float\n",
    "    mode='r',\n",
    "    shape=(nz, ny, nx, 1)   # (k, j, i, 1)==(z, y, x, 1)\n",
    ")\n",
    "\n",
    "# ---- memory–mapped array: reads only the chunks you touch ----\n",
    "n_p = np.memmap(\n",
    "    f'{datadir}/AR_385_np.dat',\n",
    "    dtype='<f4',           # little-endian 32-bit float\n",
    "    mode='r',\n",
    "    shape=(nz, ny, nx, 1)   # (k, j, i, 1)==(z, y, x, 1)\n",
    ")\n",
    "\n",
    "# ---- memory–mapped array: reads only the chunks you touch ----\n",
    "n_h = np.memmap(\n",
    "    f'{datadir}/AR_385_nh.dat',\n",
    "    dtype='<f4',           # little-endian 32-bit float\n",
    "    mode='r',\n",
    "    shape=(nz, ny, nx, 1)   # (k, j, i, 1)==(z, y, x, 1)\n",
    ")\n",
    "\n",
    "# ---- memory–mapped array: reads only the chunks you touch ----\n",
    "# geom = np.memmap(\n",
    "#     f'{datadir}/AR_385_GEOMETRY.dat',\n",
    "#     dtype='<f4',           # little-endian 32-bit float\n",
    "#     mode='r',\n",
    "#     shape=(nz, ny, nx, 1)   # (k, j, i, 1)==(z, y, x, 1)\n",
    "# )"
   ]
  },
  {
   "cell_type": "code",
   "execution_count": 4,
   "id": "9bdf8aaf",
   "metadata": {},
   "outputs": [
    {
     "name": "stdout",
     "output_type": "stream",
     "text": [
      "Populations shape:\t (425, 504, 504, 6)\n",
      "Temperature shape:\t (425, 504, 504, 1)\n",
      "Mag, field shape:\t (425, 504, 504, 3)\n",
      "Velocity shape:\t\t (425, 504, 504, 3)\n",
      "N_elec shape:\t\t (425, 504, 504, 1)\n",
      "N_nh shape:\t\t (425, 504, 504, 1)\n",
      "N_p shape:\t\t (425, 504, 504, 1)\n",
      "\n",
      "############################################################\n",
      "Populations shape INTERPOLATED:\t (128, 504, 504, 6)\n",
      "Temperature shape INTERPOLATED:\t (128, 504, 504, 1)\n",
      "Mag, field shape INTERPOLATED:\t (128, 504, 504, 3)\n",
      "Velocity shape INTERPOLATED:\t (128, 504, 504, 3)\n",
      "N_elec shape INTERPOLATED:\t (128, 504, 504, 1)\n",
      "N_nh shape INTERPOLATED:\t (128, 504, 504, 1)\n",
      "N_p shape INTERPOLATED:\t\t (128, 504, 504, 1)\n"
     ]
    }
   ],
   "source": [
    "print('Populations shape:\\t', pops.shape)\n",
    "print('Temperature shape:\\t', temp.shape)\n",
    "print('Mag, field shape:\\t', b_xyz.shape)\n",
    "print('Velocity shape:\\t\\t', vel.shape)\n",
    "print('N_elec shape:\\t\\t', n_e.shape)\n",
    "print('N_nh shape:\\t\\t', n_h.shape)\n",
    "print('N_p shape:\\t\\t', n_p.shape)\n",
    "\n",
    "from scipy.interpolate import interpn\n",
    "\n",
    "# Define a new, higher-resolution grid\n",
    "z, y, x = (np.arange(d) for d in (nz, ny, nx))\n",
    "\n",
    "new_nz, new_ny, new_nx = 128, nx, ny\n",
    "new_z, new_y, new_x = (np.linspace(0, d-1, new_d) for d, new_d in zip((nz,ny,nx), (new_nz,new_ny,new_nx)))\n",
    "new_zv, new_yv, new_xv = np.meshgrid(new_z, new_y, new_x, indexing='ij', sparse=True)\n",
    "\n",
    "# print('\\n')\n",
    "# print(f'original indices: {z}')\n",
    "# print(f'new indices: {new_z}')\n",
    "\n",
    "# Interpolate data onto the new grid\n",
    "new_points = (new_zv, new_yv, new_xv)\n",
    "pops_interp = interpn((z, y, x), pops, new_points)\n",
    "temp_interp = interpn((z, y, x), temp, new_points)\n",
    "b_xyz_interp = interpn((z, y, x), b_xyz, new_points)\n",
    "vel_interp = interpn((z, y, x), vel, new_points)\n",
    "n_e_interp = interpn((z, y, x), n_e, new_points)\n",
    "n_h_interp = interpn((z, y, x), n_h, new_points)\n",
    "n_p_interp = interpn((z, y, x), n_p, new_points)\n",
    "\n",
    "print('\\n'+'#'*60)\n",
    "print('Populations shape INTERPOLATED:\\t', pops_interp.shape)\n",
    "print('Temperature shape INTERPOLATED:\\t', temp_interp.shape)\n",
    "print('Mag, field shape INTERPOLATED:\\t', b_xyz_interp.shape)\n",
    "print('Velocity shape INTERPOLATED:\\t', vel_interp.shape)\n",
    "print('N_elec shape INTERPOLATED:\\t', n_e_interp.shape)\n",
    "print('N_nh shape INTERPOLATED:\\t', n_h_interp.shape)\n",
    "print('N_p shape INTERPOLATED:\\t\\t', n_p_interp.shape)"
   ]
  },
  {
   "cell_type": "code",
   "execution_count": 5,
   "id": "b4219ba8",
   "metadata": {},
   "outputs": [],
   "source": [
    "pops = pops_interp\n",
    "temp = temp_interp\n",
    "b_xyz = b_xyz_interp\n",
    "vel = vel_interp\n",
    "n_e = n_e_interp\n",
    "n_h = n_h_interp\n",
    "n_p = n_p_interp"
   ]
  },
  {
   "cell_type": "code",
   "execution_count": 6,
   "id": "90b10726",
   "metadata": {},
   "outputs": [
    {
     "name": "stdout",
     "output_type": "stream",
     "text": [
      "N. total trainable parameters : 5460038\n"
     ]
    }
   ],
   "source": [
    "# Read the configuration file\n",
    "config_file = 'conf.dat'\n",
    "with open(config_file, 'r') as f:\n",
    "    tmp = f.readlines()\n",
    "    f.close()\n",
    "\n",
    "    # Parse configuration file and transform to integers\n",
    "    hyperparameters = ConfigObj(tmp)\n",
    "\n",
    "for k, q in hyperparameters.items():\n",
    "    hyperparameters[k] = int(q)\n",
    "\n",
    "# Instantiate the model with the hyperparameters\n",
    "model = EncodeProcessDecode(**hyperparameters).to(device)\n",
    "# Print the number of trainable parameters\n",
    "print('N. total trainable parameters : {0}'.format(sum(p.numel() for p in model.parameters() if p.requires_grad)))\n"
   ]
  },
  {
   "cell_type": "code",
   "execution_count": 7,
   "id": "4f9b1129",
   "metadata": {},
   "outputs": [
    {
     "name": "stdout",
     "output_type": "stream",
     "text": [
      "Dataset created. Features shape: (32514048, 10), Targets shape: (32514048, 6)\n"
     ]
    }
   ],
   "source": [
    "datast = EfficientDataset([vel/vel.mean(), b_xyz/b_xyz.mean(), temp/temp.mean(), np.log10(n_h/n_h.mean()), np.log10(n_e/n_e.mean()), np.log10(n_p/n_p.mean())],\n",
    "                          [pops/pops.sum(axis=-1, keepdims=True)],\n",
    "                          radius_neighbors=1.77)\n",
    "# Get a single sample graph\n",
    "sample_graph = datast[0].to(device)\n",
    "\n",
    "# Now, provide the input as a tuple of tensors\n",
    "batch_tensor = torch.zeros(sample_graph.num_nodes, dtype=torch.long).to(device)"
   ]
  },
  {
   "cell_type": "code",
   "execution_count": 8,
   "id": "0ef9af76",
   "metadata": {},
   "outputs": [
    {
     "data": {
      "text/plain": [
       "Data(x=[1152, 10], y=[1152, 6], pos=[1152, 3], edge_index=[2, 17566], edge_attr=[17566, 1], u=[1, 1])"
      ]
     },
     "execution_count": 8,
     "metadata": {},
     "output_type": "execute_result"
    }
   ],
   "source": [
    "sample_graph"
   ]
  },
  {
   "cell_type": "code",
   "execution_count": 9,
   "id": "797cf01c",
   "metadata": {},
   "outputs": [
    {
     "data": {
      "text/plain": [
       "tensor([1.0000, 1.4142, 1.7321], device='cuda:0')"
      ]
     },
     "execution_count": 9,
     "metadata": {},
     "output_type": "execute_result"
    }
   ],
   "source": [
    "torch.unique(sample_graph.edge_attr)"
   ]
  },
  {
   "cell_type": "code",
   "execution_count": 10,
   "id": "29ccdde6",
   "metadata": {},
   "outputs": [
    {
     "name": "stdout",
     "output_type": "stream",
     "text": [
      "Model device: cuda:0\n",
      "sample_graph.x device: cuda:0\n",
      "sample_graph.edge_attr device: cuda:0\n",
      "sample_graph.edge_index device: cuda:0\n",
      "sample_graph.u device: cuda:0\n",
      "batch_tensor device: cuda:0\n"
     ]
    }
   ],
   "source": [
    "print(\"Model device:\", next(model.parameters()).device)\n",
    "print(\"sample_graph.x device:\", sample_graph.x.device)\n",
    "print(\"sample_graph.edge_attr device:\", sample_graph.edge_attr.device)\n",
    "print(\"sample_graph.edge_index device:\", sample_graph.edge_index.device)\n",
    "print(\"sample_graph.u device:\", sample_graph.u.device)\n",
    "print(\"batch_tensor device:\", batch_tensor.device)"
   ]
  },
  {
   "cell_type": "code",
   "execution_count": 11,
   "id": "8c6f3da7",
   "metadata": {},
   "outputs": [
    {
     "name": "stdout",
     "output_type": "stream",
     "text": [
      "EncodeProcessDecode(\n",
      "  (edge_encoder): MLP(\n",
      "    (activation): ELU(alpha=1.0)\n",
      "    (layers): ModuleList(\n",
      "      (0): Linear(in_features=1, out_features=64, bias=True)\n",
      "      (1): ELU(alpha=1.0)\n",
      "      (2): Linear(in_features=64, out_features=64, bias=True)\n",
      "      (3): ELU(alpha=1.0)\n",
      "      (4): Linear(in_features=64, out_features=64, bias=True)\n",
      "      (5): LayerNorm((64,), eps=1e-05, elementwise_affine=True)\n",
      "    )\n",
      "  )\n",
      "  (node_encoder): MLP(\n",
      "    (activation): ELU(alpha=1.0)\n",
      "    (layers): ModuleList(\n",
      "      (0): Linear(in_features=10, out_features=64, bias=True)\n",
      "      (1): ELU(alpha=1.0)\n",
      "      (2): Linear(in_features=64, out_features=64, bias=True)\n",
      "      (3): ELU(alpha=1.0)\n",
      "      (4): Linear(in_features=64, out_features=64, bias=True)\n",
      "      (5): LayerNorm((64,), eps=1e-05, elementwise_affine=True)\n",
      "    )\n",
      "  )\n",
      "  (encoder_network): GraphIndependent(\n",
      "    (edge_model_fn): MLP(\n",
      "      (activation): ELU(alpha=1.0)\n",
      "      (layers): ModuleList(\n",
      "        (0): Linear(in_features=1, out_features=64, bias=True)\n",
      "        (1): ELU(alpha=1.0)\n",
      "        (2): Linear(in_features=64, out_features=64, bias=True)\n",
      "        (3): ELU(alpha=1.0)\n",
      "        (4): Linear(in_features=64, out_features=64, bias=True)\n",
      "        (5): LayerNorm((64,), eps=1e-05, elementwise_affine=True)\n",
      "      )\n",
      "    )\n",
      "    (node_model_fn): MLP(\n",
      "      (activation): ELU(alpha=1.0)\n",
      "      (layers): ModuleList(\n",
      "        (0): Linear(in_features=10, out_features=64, bias=True)\n",
      "        (1): ELU(alpha=1.0)\n",
      "        (2): Linear(in_features=64, out_features=64, bias=True)\n",
      "        (3): ELU(alpha=1.0)\n",
      "        (4): Linear(in_features=64, out_features=64, bias=True)\n",
      "        (5): LayerNorm((64,), eps=1e-05, elementwise_affine=True)\n",
      "      )\n",
      "    )\n",
      "  )\n",
      "  (decoder_network): MLP(\n",
      "    (activation): ELU(alpha=1.0)\n",
      "    (layers): ModuleList(\n",
      "      (0): Linear(in_features=64, out_features=64, bias=True)\n",
      "      (1): ELU(alpha=1.0)\n",
      "      (2): Linear(in_features=64, out_features=64, bias=True)\n",
      "      (3): ELU(alpha=1.0)\n",
      "      (4): Linear(in_features=64, out_features=6, bias=True)\n",
      "    )\n",
      "  )\n",
      "  (processor_network): ModuleList(\n",
      "    (0-99): 100 x MetaLayer(\n",
      "      edge_model=EdgeModel(\n",
      "      (edge_mlp): MLP(\n",
      "        (activation): ELU(alpha=1.0)\n",
      "        (layers): ModuleList(\n",
      "          (0): Linear(in_features=193, out_features=64, bias=True)\n",
      "          (1): ELU(alpha=1.0)\n",
      "          (2): Linear(in_features=64, out_features=64, bias=True)\n",
      "          (3): ELU(alpha=1.0)\n",
      "          (4): Linear(in_features=64, out_features=64, bias=True)\n",
      "          (5): LayerNorm((64,), eps=1e-05, elementwise_affine=True)\n",
      "        )\n",
      "      )\n",
      "    ),\n",
      "      node_model=NodeModel(\n",
      "      (node_mlp_1): MLP(\n",
      "        (activation): ELU(alpha=1.0)\n",
      "        (layers): ModuleList(\n",
      "          (0): Linear(in_features=128, out_features=64, bias=True)\n",
      "          (1): ELU(alpha=1.0)\n",
      "          (2): Linear(in_features=64, out_features=64, bias=True)\n",
      "          (3): ELU(alpha=1.0)\n",
      "          (4): Linear(in_features=64, out_features=64, bias=True)\n",
      "          (5): LayerNorm((64,), eps=1e-05, elementwise_affine=True)\n",
      "        )\n",
      "      )\n",
      "      (node_mlp_2): MLP(\n",
      "        (activation): ELU(alpha=1.0)\n",
      "        (layers): ModuleList(\n",
      "          (0): Linear(in_features=129, out_features=64, bias=True)\n",
      "          (1): ELU(alpha=1.0)\n",
      "          (2): Linear(in_features=64, out_features=64, bias=True)\n",
      "          (3): ELU(alpha=1.0)\n",
      "          (4): Linear(in_features=64, out_features=64, bias=True)\n",
      "          (5): LayerNorm((64,), eps=1e-05, elementwise_affine=True)\n",
      "        )\n",
      "      )\n",
      "    ),\n",
      "      global_model=None\n",
      "    )\n",
      "  )\n",
      ")\n"
     ]
    }
   ],
   "source": [
    "print(model)"
   ]
  },
  {
   "cell_type": "code",
   "execution_count": 12,
   "id": "62f69b5e",
   "metadata": {},
   "outputs": [
    {
     "name": "stdout",
     "output_type": "stream",
     "text": [
      "Model size: 20.83 MB\n"
     ]
    }
   ],
   "source": [
    "model = model.to(device)\n",
    "param_size = sum(p.numel() * p.element_size() for p in model.parameters())\n",
    "buffer_size = sum(b.numel() * b.element_size() for b in model.buffers())\n",
    "total_size = param_size + buffer_size\n",
    "\n",
    "print(f\"Model size: {total_size / 1024 ** 2:.2f} MB\")\n"
   ]
  },
  {
   "cell_type": "code",
   "execution_count": 13,
   "id": "6863dde4",
   "metadata": {},
   "outputs": [],
   "source": [
    "loader = DataLoader( datast, batch_size=8, shuffle=False)"
   ]
  },
  {
   "cell_type": "code",
   "execution_count": 14,
   "id": "c1d6d7f9",
   "metadata": {},
   "outputs": [
    {
     "name": "stdout",
     "output_type": "stream",
     "text": [
      "Epoch 1/10\n"
     ]
    },
    {
     "name": "stderr",
     "output_type": "stream",
     "text": [
      "100%|██████████| 125/125 [01:17<00:00,  1.61it/s]\n",
      "100%|██████████| 125/125 [00:22<00:00,  5.58it/s, loss=0.0572]\n"
     ]
    },
    {
     "name": "stdout",
     "output_type": "stream",
     "text": [
      "Saving best model...\n",
      "Epoch 2/10\n"
     ]
    },
    {
     "name": "stderr",
     "output_type": "stream",
     "text": [
      "100%|██████████| 125/125 [01:17<00:00,  1.62it/s]\n",
      "100%|██████████| 125/125 [00:22<00:00,  5.65it/s, loss=0.0295]\n"
     ]
    },
    {
     "name": "stdout",
     "output_type": "stream",
     "text": [
      "Saving best model...\n",
      "Epoch 3/10\n"
     ]
    },
    {
     "name": "stderr",
     "output_type": "stream",
     "text": [
      "100%|██████████| 125/125 [01:17<00:00,  1.62it/s]\n",
      "100%|██████████| 125/125 [00:22<00:00,  5.65it/s, loss=0.0322]\n"
     ]
    },
    {
     "name": "stdout",
     "output_type": "stream",
     "text": [
      "Epoch 4/10\n"
     ]
    },
    {
     "name": "stderr",
     "output_type": "stream",
     "text": [
      "100%|██████████| 125/125 [01:16<00:00,  1.62it/s]\n",
      "100%|██████████| 125/125 [00:21<00:00,  5.71it/s, loss=0.0188]\n"
     ]
    },
    {
     "name": "stdout",
     "output_type": "stream",
     "text": [
      "Saving best model...\n",
      "Epoch 5/10\n"
     ]
    },
    {
     "name": "stderr",
     "output_type": "stream",
     "text": [
      "100%|██████████| 125/125 [01:16<00:00,  1.63it/s]\n",
      "100%|██████████| 125/125 [00:21<00:00,  5.68it/s, loss=0.0139]\n"
     ]
    },
    {
     "name": "stdout",
     "output_type": "stream",
     "text": [
      "Saving best model...\n",
      "Epoch 6/10\n"
     ]
    },
    {
     "name": "stderr",
     "output_type": "stream",
     "text": [
      "100%|██████████| 125/125 [01:16<00:00,  1.63it/s]\n",
      "100%|██████████| 125/125 [00:21<00:00,  5.71it/s, loss=0.0126]\n"
     ]
    },
    {
     "name": "stdout",
     "output_type": "stream",
     "text": [
      "Saving best model...\n",
      "Epoch 7/10\n"
     ]
    },
    {
     "name": "stderr",
     "output_type": "stream",
     "text": [
      "100%|██████████| 125/125 [01:16<00:00,  1.63it/s]\n",
      "100%|██████████| 125/125 [00:21<00:00,  5.72it/s, loss=0.0127]\n"
     ]
    },
    {
     "name": "stdout",
     "output_type": "stream",
     "text": [
      "Epoch 8/10\n"
     ]
    },
    {
     "name": "stderr",
     "output_type": "stream",
     "text": [
      "100%|██████████| 125/125 [01:16<00:00,  1.63it/s]\n",
      "100%|██████████| 125/125 [00:21<00:00,  5.70it/s, loss=0.0116]\n"
     ]
    },
    {
     "name": "stdout",
     "output_type": "stream",
     "text": [
      "Saving best model...\n",
      "Epoch 9/10\n"
     ]
    },
    {
     "name": "stderr",
     "output_type": "stream",
     "text": [
      "100%|██████████| 125/125 [01:17<00:00,  1.62it/s]\n",
      "100%|██████████| 125/125 [00:22<00:00,  5.66it/s, loss=0.0114]\n"
     ]
    },
    {
     "name": "stdout",
     "output_type": "stream",
     "text": [
      "Saving best model...\n",
      "Epoch 10/10\n"
     ]
    },
    {
     "name": "stderr",
     "output_type": "stream",
     "text": [
      "100%|██████████| 125/125 [01:16<00:00,  1.64it/s]\n",
      "100%|██████████| 125/125 [00:22<00:00,  5.67it/s, loss=0.011] \n"
     ]
    },
    {
     "name": "stdout",
     "output_type": "stream",
     "text": [
      "Saving best model...\n"
     ]
    }
   ],
   "source": [
    "lr = 1e-3\n",
    "n_epochs = 10\n",
    "savedir = 'checkpoints/'\n",
    "smooth = 0.05\n",
    "\n",
    "# Optimizer\n",
    "optimizer = torch.optim.Adam(model.parameters(), lr=1e-3)\n",
    "\n",
    "# Cosine annealing learning rate scheduler. This will reduce the learning rate with a cosing law\n",
    "scheduler = torch.optim.lr_scheduler.CosineAnnealingLR(optimizer, n_epochs)\n",
    "\n",
    "# Loss function\n",
    "loss_fn = nn.MSELoss()\n",
    "\n",
    "# Now start the training\n",
    "train_loss = []\n",
    "valid_loss = []\n",
    "best_loss = float('inf')\n",
    "\n",
    "# print(torch.cuda.memory_summary())\n",
    "\n",
    "for epoch in range(1, n_epochs + 1):\n",
    "\n",
    "    filename = str(epoch) #time.strftime(\"%Y%m%d-%H%M%S\")\n",
    "\n",
    "    # Compute training and validation steps\n",
    "    ################### TRAINING ###################\n",
    "    # Put the model in training mode\n",
    "    model.train()\n",
    "    print(\"Epoch {0}/{1}\".format(epoch, n_epochs))\n",
    "    t = tqdm(loader)\n",
    "    loss_avg = 0.0\n",
    "\n",
    "    for batch_idx, (data) in enumerate(t):\n",
    "\n",
    "        # Extract the node, edges, indices, target, global and batch information from the Data class\n",
    "        node = data.x\n",
    "        edge_attr = data.edge_attr\n",
    "        edge_index = data.edge_index\n",
    "        target = data.y\n",
    "        u = data.u\n",
    "        batch = data.batch\n",
    "\n",
    "        # Move them to the GPU\n",
    "        node, edge_attr, edge_index = node.to(device), edge_attr.to(device), edge_index.to(device)\n",
    "        u, batch, target = u.to(device), batch.to(device), target.to(device)\n",
    "\n",
    "        # Reset gradients\n",
    "        optimizer.zero_grad()\n",
    "\n",
    "        # Evaluate Graphnet\n",
    "        out = model(node, edge_attr, edge_index, u, batch)\n",
    "\n",
    "        # Compute loss\n",
    "        loss = loss_fn(out.squeeze(), target.squeeze())\n",
    "\n",
    "        # Compute backpropagation\n",
    "        loss.backward()\n",
    "\n",
    "        # Update the parameters\n",
    "        optimizer.step()\n",
    "\n",
    "        for param_group in optimizer.param_groups:\n",
    "            current_lr = param_group['lr']\n",
    "\n",
    "        # Compute smoothed loss\n",
    "        if (batch_idx == 0):\n",
    "            loss_avg = loss.item()\n",
    "        else:\n",
    "            loss_avg = smooth * loss.item() + (1.0 - smooth) * loss_avg\n",
    "\n",
    "        # free gpu memory\n",
    "        # torch.cuda.empty_cache()\n",
    "\n",
    "    train_loss.append(loss_avg)\n",
    "\n",
    "    ################### VALIDATION ###################\n",
    "    # Do a validation of the model and return the loss\n",
    "\n",
    "    model.eval()\n",
    "    loss_avg = 0\n",
    "    t = tqdm(loader)\n",
    "    with torch.no_grad():\n",
    "        for batch_idx, (data) in enumerate(t):\n",
    "\n",
    "            node = data.x\n",
    "            edge_attr = data.edge_attr\n",
    "            edge_index = data.edge_index\n",
    "            target = data.y\n",
    "            u = data.u\n",
    "            batch = data.batch\n",
    "\n",
    "            node, edge_attr, edge_index = node.to(device), edge_attr.to(device), edge_index.to(device)\n",
    "            u, batch, target = u.to(device), batch.to(device), target.to(device)\n",
    "\n",
    "            out = model(node, edge_attr, edge_index, u, batch)\n",
    "\n",
    "            loss = loss_fn(out.squeeze(), target.squeeze())\n",
    "\n",
    "            if (batch_idx == 0):\n",
    "                loss_avg = loss.item()\n",
    "            else:\n",
    "                loss_avg = smooth * loss.item() + (1.0 - smooth) * loss_avg\n",
    "\n",
    "            t.set_postfix(loss=loss_avg)\n",
    "\n",
    "    valid_loss.append(loss_avg)\n",
    "\n",
    "    # If the validation loss improves, save the model as best\n",
    "    if (valid_loss[-1] < best_loss):\n",
    "        best_loss = valid_loss[-1]\n",
    "\n",
    "        checkpoint = {\n",
    "            'epoch': epoch + 1,\n",
    "            'state_dict': model.state_dict(),\n",
    "            'train_loss': train_loss,\n",
    "            'valid_loss': valid_loss,\n",
    "            'best_loss': best_loss,\n",
    "            'hyperparameters': hyperparameters,\n",
    "            'optimizer': optimizer.state_dict(),\n",
    "        }\n",
    "\n",
    "        print(\"Saving best model...\")\n",
    "        torch.save(checkpoint, savedir + filename + '_best.pth')\n",
    "\n",
    "    # Update the learning rate\n",
    "    scheduler.step()\n"
   ]
  },
  {
   "cell_type": "code",
   "execution_count": 15,
   "id": "531cf365",
   "metadata": {},
   "outputs": [
    {
     "data": {
      "image/png": "[encoded data removed]",
      "text/plain": [
       "<Figure size 1000x1500 with 1 Axes>"
      ]
     },
     "metadata": {},
     "output_type": "display_data"
    }
   ],
   "source": [
    "plt.figure(0, (10,15), dpi=100)\n",
    "plt.plot(train_loss, label='train loss')\n",
    "plt.plot(valid_loss, label='Validation loss')\n",
    "plt.xlabel('Itteration')\n",
    "plt.legend()\n",
    "plt.show()\n"
   ]
  }
 ],
 "metadata": {
  "kernelspec": {
   "display_name": "gnn-env",
   "language": "python",
   "name": "python3"
  },
  "language_info": {
   "codemirror_mode": {
    "name": "ipython",
    "version": 3
   },
   "file_extension": ".py",
   "mimetype": "text/x-python",
   "name": "python",
   "nbconvert_exporter": "python",
   "pygments_lexer": "ipython3",
   "version": "3.10.18"
  }
 },
 "nbformat": 4,
 "nbformat_minor": 5
}
